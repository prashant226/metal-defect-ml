{
 "cells": [
  {
   "cell_type": "code",
   "execution_count": 1,
   "metadata": {},
   "outputs": [
    {
     "name": "stderr",
     "output_type": "stream",
     "text": [
      "c:\\Users\\Prashanth\\anaconda3\\envs\\testenv\\lib\\site-packages\\tensorflow\\python\\framework\\dtypes.py:516: FutureWarning: Passing (type, 1) or '1type' as a synonym of type is deprecated; in a future version of numpy, it will be understood as (type, (1,)) / '(1,)type'.\n",
      "  _np_qint8 = np.dtype([(\"qint8\", np.int8, 1)])\n",
      "c:\\Users\\Prashanth\\anaconda3\\envs\\testenv\\lib\\site-packages\\tensorflow\\python\\framework\\dtypes.py:517: FutureWarning: Passing (type, 1) or '1type' as a synonym of type is deprecated; in a future version of numpy, it will be understood as (type, (1,)) / '(1,)type'.\n",
      "  _np_quint8 = np.dtype([(\"quint8\", np.uint8, 1)])\n",
      "c:\\Users\\Prashanth\\anaconda3\\envs\\testenv\\lib\\site-packages\\tensorflow\\python\\framework\\dtypes.py:518: FutureWarning: Passing (type, 1) or '1type' as a synonym of type is deprecated; in a future version of numpy, it will be understood as (type, (1,)) / '(1,)type'.\n",
      "  _np_qint16 = np.dtype([(\"qint16\", np.int16, 1)])\n",
      "c:\\Users\\Prashanth\\anaconda3\\envs\\testenv\\lib\\site-packages\\tensorflow\\python\\framework\\dtypes.py:519: FutureWarning: Passing (type, 1) or '1type' as a synonym of type is deprecated; in a future version of numpy, it will be understood as (type, (1,)) / '(1,)type'.\n",
      "  _np_quint16 = np.dtype([(\"quint16\", np.uint16, 1)])\n",
      "c:\\Users\\Prashanth\\anaconda3\\envs\\testenv\\lib\\site-packages\\tensorflow\\python\\framework\\dtypes.py:520: FutureWarning: Passing (type, 1) or '1type' as a synonym of type is deprecated; in a future version of numpy, it will be understood as (type, (1,)) / '(1,)type'.\n",
      "  _np_qint32 = np.dtype([(\"qint32\", np.int32, 1)])\n",
      "c:\\Users\\Prashanth\\anaconda3\\envs\\testenv\\lib\\site-packages\\tensorflow\\python\\framework\\dtypes.py:525: FutureWarning: Passing (type, 1) or '1type' as a synonym of type is deprecated; in a future version of numpy, it will be understood as (type, (1,)) / '(1,)type'.\n",
      "  np_resource = np.dtype([(\"resource\", np.ubyte, 1)])\n",
      "c:\\Users\\Prashanth\\anaconda3\\envs\\testenv\\lib\\site-packages\\tensorboard\\compat\\tensorflow_stub\\dtypes.py:541: FutureWarning: Passing (type, 1) or '1type' as a synonym of type is deprecated; in a future version of numpy, it will be understood as (type, (1,)) / '(1,)type'.\n",
      "  _np_qint8 = np.dtype([(\"qint8\", np.int8, 1)])\n",
      "c:\\Users\\Prashanth\\anaconda3\\envs\\testenv\\lib\\site-packages\\tensorboard\\compat\\tensorflow_stub\\dtypes.py:542: FutureWarning: Passing (type, 1) or '1type' as a synonym of type is deprecated; in a future version of numpy, it will be understood as (type, (1,)) / '(1,)type'.\n",
      "  _np_quint8 = np.dtype([(\"quint8\", np.uint8, 1)])\n",
      "c:\\Users\\Prashanth\\anaconda3\\envs\\testenv\\lib\\site-packages\\tensorboard\\compat\\tensorflow_stub\\dtypes.py:543: FutureWarning: Passing (type, 1) or '1type' as a synonym of type is deprecated; in a future version of numpy, it will be understood as (type, (1,)) / '(1,)type'.\n",
      "  _np_qint16 = np.dtype([(\"qint16\", np.int16, 1)])\n",
      "c:\\Users\\Prashanth\\anaconda3\\envs\\testenv\\lib\\site-packages\\tensorboard\\compat\\tensorflow_stub\\dtypes.py:544: FutureWarning: Passing (type, 1) or '1type' as a synonym of type is deprecated; in a future version of numpy, it will be understood as (type, (1,)) / '(1,)type'.\n",
      "  _np_quint16 = np.dtype([(\"quint16\", np.uint16, 1)])\n",
      "c:\\Users\\Prashanth\\anaconda3\\envs\\testenv\\lib\\site-packages\\tensorboard\\compat\\tensorflow_stub\\dtypes.py:545: FutureWarning: Passing (type, 1) or '1type' as a synonym of type is deprecated; in a future version of numpy, it will be understood as (type, (1,)) / '(1,)type'.\n",
      "  _np_qint32 = np.dtype([(\"qint32\", np.int32, 1)])\n",
      "c:\\Users\\Prashanth\\anaconda3\\envs\\testenv\\lib\\site-packages\\tensorboard\\compat\\tensorflow_stub\\dtypes.py:550: FutureWarning: Passing (type, 1) or '1type' as a synonym of type is deprecated; in a future version of numpy, it will be understood as (type, (1,)) / '(1,)type'.\n",
      "  np_resource = np.dtype([(\"resource\", np.ubyte, 1)])\n"
     ]
    }
   ],
   "source": [
    "import tensorflow as tf\n",
    "from tensorflow.keras.optimizers import RMSprop\n",
    "from tensorflow.keras.preprocessing.image import ImageDataGenerator\n",
    "import os"
   ]
  },
  {
   "cell_type": "markdown",
   "metadata": {},
   "source": [
    "# First Sperate a portion of data for testing"
   ]
  },
  {
   "cell_type": "code",
   "execution_count": 4,
   "metadata": {},
   "outputs": [
    {
     "name": "stdout",
     "output_type": "stream",
     "text": [
      "\n",
      "Everything already have in the directory. You don't need to run this cell\n"
     ]
    }
   ],
   "source": [
    "#before doing these please make a folder as train data and in the train folder create another six folder for six defects\n",
    "#These six folder should have 300 images.\n",
    "try:\n",
    "    source1 = \"NEU/train\"\n",
    "    os.mkdir(\"NEU/test\")\n",
    "    dest11 = \"NEU/test\"\n",
    "    files = os.listdir(source1)\n",
    "    import shutil\n",
    "    import numpy as np\n",
    "    for f in files:\n",
    "        os.mkdir(dest11 + '/'+ f)\n",
    "        spilt_num=int(len(os.listdir(source1 + '/'+ f))*0.08)\n",
    "        for i in os.listdir(source1 + '/'+ f)[spilt_num:]:\n",
    "            shutil.move(source1 + '/'+ f +'/'+ i, dest11 + '/'+ f +'/'+ i)\n",
    "except:\n",
    "    print(\"\\nEverything already have in the directory. You don't need to run this cell\")"
   ]
  },
  {
   "cell_type": "markdown",
   "metadata": {},
   "source": [
    "## Now divide the test data into test and validation data"
   ]
  },
  {
   "cell_type": "code",
   "execution_count": 6,
   "metadata": {},
   "outputs": [
    {
     "name": "stdout",
     "output_type": "stream",
     "text": [
      "\n",
      "Everything already have in the directory. You don't need to run this cell\n"
     ]
    }
   ],
   "source": [
    "try:\n",
    "    source1 = \"NEU/test\"\n",
    "    os.mkdir(\"MAIN/NEU/valid\")\n",
    "    dest11 = \"NEU/valid\"\n",
    "    files = os.listdir(source1)\n",
    "    import shutil\n",
    "    import numpy as np\n",
    "    for f in files:\n",
    "        os.mkdir(dest11 + '/'+ f)\n",
    "        spilt_num=int(len(os.listdir(source1 + '/'+ f))*0.5)\n",
    "        for i in os.listdir(source1 + '/'+ f)[spilt_num:]:\n",
    "            shutil.move(source1 + '/'+ f +'/'+ i, dest11 + '/'+ f +'/'+ i)\n",
    "except:\n",
    "    print(\"\\nEverything already have in the directory. You don't need to run this cell\")"
   ]
  },
  {
   "cell_type": "code",
   "execution_count": 7,
   "metadata": {},
   "outputs": [
    {
     "name": "stdout",
     "output_type": "stream",
     "text": [
      "Found 1656 images belonging to 6 classes.\n"
     ]
    },
    {
     "name": "stdout",
     "output_type": "stream",
     "text": [
      "Found 72 images belonging to 6 classes.\n"
     ]
    }
   ],
   "source": [
    "# All images will be rescaled by 1./255\n",
    "train_datagen = ImageDataGenerator(\n",
    "    rescale=1. / 255,\n",
    "    shear_range=0.2,\n",
    "    zoom_range=0.2,\n",
    "    horizontal_flip=True)\n",
    "\n",
    "\n",
    "test_datagen = ImageDataGenerator(rescale=1./255)\n",
    "\n",
    "# Flow training images in batches of 10 using train_datagen generator\n",
    "train_generator = train_datagen.flow_from_directory(\n",
    "        'NEU/train',\n",
    "        target_size=(200, 200),\n",
    "        batch_size=10,\n",
    "        class_mode='categorical')\n",
    "\n",
    "# Flow validation images in batches of 10 using test_datagen generator\n",
    "validation_generator = test_datagen.flow_from_directory(\n",
    "        'NEU/valid',\n",
    "        target_size=(200, 200),\n",
    "        batch_size=10,\n",
    "        class_mode='categorical')"
   ]
  },
  {
   "cell_type": "code",
   "execution_count": 8,
   "metadata": {},
   "outputs": [],
   "source": [
    "class myCallback(tf.keras.callbacks.Callback):\n",
    "    def on_epoch_end(self, epoch, logs={}):\n",
    "        if(logs.get('accuracy') > 0.978 ):\n",
    "            print(\"\\nReached 97.8% accuracy so cancelling training!\")\n",
    "            self.model.stop_training = True "
   ]
  },
  {
   "cell_type": "code",
   "execution_count": 9,
   "metadata": {},
   "outputs": [
    {
     "name": "stdout",
     "output_type": "stream",
     "text": [
      "Model: \"sequential\"\n",
      "_________________________________________________________________\n",
      " Layer (type)                Output Shape              Param #   \n",
      "=================================================================\n",
      " conv2d (Conv2D)             (None, 199, 199, 32)      416       \n",
      "                                                                 \n",
      " max_pooling2d (MaxPooling2  (None, 99, 99, 32)        0         \n",
      " D)                                                              \n",
      "                                                                 \n",
      " conv2d_1 (Conv2D)           (None, 98, 98, 64)        8256      \n",
      "                                                                 \n",
      " max_pooling2d_1 (MaxPoolin  (None, 49, 49, 64)        0         \n",
      " g2D)                                                            \n",
      "                                                                 \n",
      " conv2d_2 (Conv2D)           (None, 48, 48, 128)       32896     \n",
      "                                                                 \n",
      " max_pooling2d_2 (MaxPoolin  (None, 24, 24, 128)       0         \n",
      " g2D)                                                            \n",
      "                                                                 \n",
      " flatten (Flatten)           (None, 73728)             0         \n",
      "                                                                 \n",
      " dense (Dense)               (None, 256)               18874624  \n",
      "                                                                 \n",
      " dropout (Dropout)           (None, 256)               0         \n",
      "                                                                 \n",
      " dense_1 (Dense)             (None, 6)                 1542      \n",
      "                                                                 \n",
      "=================================================================\n",
      "Total params: 18917734 (72.17 MB)\n",
      "Trainable params: 18917734 (72.17 MB)\n",
      "Non-trainable params: 0 (0.00 Byte)\n",
      "_________________________________________________________________\n"
     ]
    }
   ],
   "source": [
    "model = tf.keras.models.Sequential([\n",
    "    tf.keras.layers.Conv2D(32, (2,2), activation='relu', input_shape=(200, 200, 3)),\n",
    "    tf.keras.layers.MaxPooling2D(2, 2),\n",
    "    tf.keras.layers.Conv2D(64, (2,2), activation='relu'),\n",
    "    tf.keras.layers.MaxPooling2D(2,2),\n",
    "    tf.keras.layers.Conv2D(128, (2,2), activation='relu'),\n",
    "    tf.keras.layers.MaxPooling2D(2,2),\n",
    "    tf.keras.layers.Flatten(),\n",
    "    tf.keras.layers.Dense(256, activation='relu'),\n",
    "    tf.keras.layers.Dropout(0.2),\n",
    "    tf.keras.layers.Dense(6, activation='softmax')\n",
    "])\n",
    "\n",
    "model.summary()"
   ]
  },
  {
   "cell_type": "code",
   "execution_count": 10,
   "metadata": {},
   "outputs": [
    {
     "name": "stdout",
     "output_type": "stream",
     "text": [
      "Compiled!\n"
     ]
    }
   ],
   "source": [
    "model.compile(loss='categorical_crossentropy',\n",
    "              optimizer='rmsprop',\n",
    "              metrics=['accuracy'])\n",
    "print('Compiled!')"
   ]
  },
  {
   "cell_type": "code",
   "execution_count": 11,
   "metadata": {},
   "outputs": [
    {
     "name": "stdout",
     "output_type": "stream",
     "text": [
      "Epoch 1/15\n",
      "166/166 [==============================] - 191s 1s/step - loss: 1.8870 - accuracy: 0.2965 - val_loss: 1.5425 - val_accuracy: 0.4306\n",
      "Epoch 2/15\n",
      "166/166 [==============================] - 114s 674ms/step - loss: 1.0624 - accuracy: 0.6147 - val_loss: 1.5250 - val_accuracy: 0.3472\n",
      "Epoch 3/15\n",
      "166/166 [==============================] - 114s 683ms/step - loss: 0.7284 - accuracy: 0.7337 - val_loss: 0.4347 - val_accuracy: 0.9306\n",
      "Epoch 4/15\n",
      "166/166 [==============================] - 112s 672ms/step - loss: 0.6267 - accuracy: 0.7923 - val_loss: 0.2417 - val_accuracy: 0.9028\n",
      "Epoch 5/15\n",
      "166/166 [==============================] - 109s 657ms/step - loss: 0.4998 - accuracy: 0.8357 - val_loss: 0.1110 - val_accuracy: 0.9861\n",
      "Epoch 6/15\n",
      "166/166 [==============================] - 110s 660ms/step - loss: 0.4621 - accuracy: 0.8442 - val_loss: 0.1891 - val_accuracy: 0.9583\n",
      "Epoch 7/15\n",
      "166/166 [==============================] - 112s 673ms/step - loss: 0.4162 - accuracy: 0.8629 - val_loss: 0.4920 - val_accuracy: 0.8611\n",
      "Epoch 8/15\n",
      "166/166 [==============================] - 110s 663ms/step - loss: 0.3598 - accuracy: 0.8853 - val_loss: 0.5989 - val_accuracy: 0.7917\n",
      "Epoch 9/15\n",
      "166/166 [==============================] - 109s 657ms/step - loss: 0.3112 - accuracy: 0.9004 - val_loss: 0.2228 - val_accuracy: 0.9583\n",
      "Epoch 10/15\n",
      "166/166 [==============================] - 111s 665ms/step - loss: 0.3342 - accuracy: 0.9016 - val_loss: 0.1053 - val_accuracy: 0.9722\n",
      "Epoch 11/15\n",
      "166/166 [==============================] - 108s 649ms/step - loss: 0.3361 - accuracy: 0.9034 - val_loss: 0.1360 - val_accuracy: 0.9722\n",
      "Epoch 12/15\n",
      "166/166 [==============================] - 2091s 13s/step - loss: 0.2695 - accuracy: 0.9179 - val_loss: 0.0987 - val_accuracy: 1.0000\n",
      "Epoch 13/15\n",
      "166/166 [==============================] - 125s 749ms/step - loss: 0.2717 - accuracy: 0.9143 - val_loss: 0.2280 - val_accuracy: 0.9722\n",
      "Epoch 14/15\n",
      "166/166 [==============================] - 114s 686ms/step - loss: 0.2480 - accuracy: 0.9203 - val_loss: 0.0593 - val_accuracy: 0.9861\n",
      "Epoch 15/15\n",
      "166/166 [==============================] - 131s 792ms/step - loss: 0.2599 - accuracy: 0.9221 - val_loss: 0.0208 - val_accuracy: 1.0000\n"
     ]
    }
   ],
   "source": [
    "callbacks = myCallback()\n",
    "history = model.fit(train_generator,\n",
    "        batch_size = 32,\n",
    "        epochs=15,\n",
    "        validation_data=validation_generator,\n",
    "        callbacks=[callbacks]\n",
    "        verbose=1, shuffle=True)"
   ]
  },
  {
   "cell_type": "markdown",
   "metadata": {},
   "source": [
    "<!-- we have achieved a accuracy of 90 percentage -->"
   ]
  },
  {
   "cell_type": "code",
   "execution_count": 9,
   "metadata": {},
   "outputs": [
    {
     "data": {
      "image/png": "[encoded data removed]",
      "text/plain": [
       "<Figure size 640x480 with 2 Axes>"
      ]
     },
     "metadata": {},
     "output_type": "display_data"
    }
   ],
   "source": [
    "import matplotlib.pyplot as plt \n",
    "plt.figure(1)  \n",
    "# summarize history for accuracy  \n",
    "plt.subplot(211)  \n",
    "plt.plot(history.history['accuracy'])  \n",
    "plt.plot(history.history['val_accuracy'])  \n",
    "plt.title('model accuracy')  \n",
    "plt.ylabel('accuracy')  \n",
    "plt.xlabel('epoch')  \n",
    "plt.legend(['train', 'test'], loc='upper left')  \n",
    "   \n",
    " # summarize history for loss  \n",
    "   \n",
    "plt.subplot(212)  \n",
    "plt.plot(history.history['loss'])  \n",
    "plt.plot(history.history['val_loss'])  \n",
    "plt.title('model loss')  \n",
    "plt.ylabel('loss')  \n",
    "plt.xlabel('epoch')  \n",
    "plt.legend(['train', 'test'], loc='upper left')  \n",
    "plt.show()\n"
   ]
  },
  {
   "cell_type": "code",
   "execution_count": 1,
   "metadata": {},
   "outputs": [
    {
     "ename": "NameError",
     "evalue": "name 'model' is not defined",
     "output_type": "error",
     "traceback": [
      "\u001b[1;31m---------------------------------------------------------------------------\u001b[0m",
      "\u001b[1;31mNameError\u001b[0m                                 Traceback (most recent call last)",
      "Cell \u001b[1;32mIn[1], line 16\u001b[0m\n\u001b[0;32m     14\u001b[0m \u001b[39m# Make predictions using your pre-trained model\u001b[39;00m\n\u001b[0;32m     15\u001b[0m user_input_image \u001b[39m=\u001b[39m np\u001b[39m.\u001b[39mexpand_dims(user_input_image, axis\u001b[39m=\u001b[39m\u001b[39m0\u001b[39m)  \u001b[39m# Add batch dimension\u001b[39;00m\n\u001b[1;32m---> 16\u001b[0m prediction \u001b[39m=\u001b[39m model\u001b[39m.\u001b[39mpredict(user_input_image)\n\u001b[0;32m     18\u001b[0m \u001b[39m# Get the defect type based on the prediction\u001b[39;00m\n\u001b[0;32m     19\u001b[0m defect_type \u001b[39m=\u001b[39m target_labels[np\u001b[39m.\u001b[39margmax(prediction)]\n",
      "\u001b[1;31mNameError\u001b[0m: name 'model' is not defined"
     ]
    }
   ],
   "source": [
    "from keras.preprocessing.image import img_to_array, load_img\n",
    "import numpy as np\n",
    "\n",
    "# Define your target labels (replace with your actual labels)\n",
    "target_labels = [\"crazing\", \"inclusion\",\"patches\",\"pitted\",\"rolled\",\"scratches\"]\n",
    "\n",
    "# Capture user input image (this step depends on your application)\n",
    "user_input_image_path = 'Sc_12.bmp'  # Replace with the actual path to the user's image\n",
    "\n",
    "# Load and preprocess the user input image\n",
    "user_input_image = img_to_array(load_img(user_input_image_path, target_size=(200, 200)))\n",
    "user_input_image = user_input_image.astype('float32') / 255\n",
    "\n",
    "# Make predictions using your pre-trained model\n",
    "user_input_image = np.expand_dims(user_input_image, axis=0)  # Add batch dimension\n",
    "prediction = model.predict(user_input_image)\n",
    "\n",
    "# Get the defect type based on the prediction\n",
    "defect_type = target_labels[np.argmax(prediction)]\n",
    "\n",
    "# Display the input image and the predicted defect type to the user\n",
    "print(f\"Predicted defect type: {defect_type}\")\n",
    "\n"
   ]
  }
 ],
 "metadata": {
  "kernelspec": {
   "display_name": "testenv",
   "language": "python",
   "name": "python3"
  },
  "language_info": {
   "codemirror_mode": {
    "name": "ipython",
    "version": 3
   },
   "file_extension": ".py",
   "mimetype": "text/x-python",
   "name": "python",
   "nbconvert_exporter": "python",
   "pygments_lexer": "ipython3",
   "version": "3.7.12"
  }
 },
 "nbformat": 4,
 "nbformat_minor": 4
}
